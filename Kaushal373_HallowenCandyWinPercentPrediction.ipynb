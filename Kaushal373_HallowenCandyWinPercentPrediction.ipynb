{
 "cells": [
  {
   "cell_type": "markdown",
   "metadata": {},
   "source": [
    "<h1> <center> <b> CandyShop </b> </center> </h1>\n",
    "<b> <h3> Company Introduction : </h3> </b>\n",
    "Your client for this project is a Candy Selling Company.\n",
    "\n",
    "This company sells a large variety of candies worldwide.\n",
    "They want to supply the highest quality of candies which most people will prefer to receive on halloween.\n",
    "To find the most popular candy, they need to analyze different characteristics of the candy as per the data collected through the survey.\n",
    "\n",
    "Current Scenario\n",
    "It is very tough to know the candies preferred by people to receive on Halloween.\n",
    "Currently, they estimate the popularity of candies based on their previous sales but this does not give the ideal results."
   ]
  },
  {
   "cell_type": "markdown",
   "metadata": {},
   "source": [
    "<h3> <b> Problem Statement : </b> </h3>\n",
    "The current process suffers from the following problems:\n",
    "\n",
    "The popularity of candies derived from the previous sales records is not an ideal estimate of actual popularity.\n",
    "The sales can also be affected by bulk orders as well and this might not give us the actual popularity.\n",
    "\n",
    "The company has hired you as data science consultants.\n",
    "\n",
    "They want to automate the process of predicting the winning percentage of halloween candies which people would prefer to receive."
   ]
  },
  {
   "attachments": {},
   "cell_type": "markdown",
   "metadata": {},
   "source": [
    "## Dataset Feature Description\n",
    "\n",
    "<table>\t<th>\tColumn Name\t</th>\t<th>\tDescription\t</th>\n",
    "<tr>\t<td>\tcompetitorname\t</td>\t<td>\tName of competitor candy\t</td>\n",
    "<tr>\t<td>\tchocolate\t</td>\t<td>\tDoes it contain chocolate?\t</td>\n",
    "<tr>\t<td>\tfruity\t</td>\t<td>\tIs it fruit flavored?\t</td>\n",
    "<tr>\t<td>\tcaramel\t</td>\t<td>\tIs there caramel in the candy?\t</td>\n",
    "<tr>\t<td>\tpeanutalmondy\t</td>\t<td>\tDoes it contain peanuts, peanut butter or almonds?\t</td>\n",
    "<tr>\t<td>\tnougat\t</td>\t<td>\tDoes it contain nougat?\t</td>\n",
    "<tr>\t<td>\tcrispedricewafer\t</td>\t<td>\tDoes it contain crisped rice, wafers, or a cookie component?\t</td>\n",
    "<tr>\t<td>\thard\t</td>\t<td>\tIs it a hard candy?\t</td>\n",
    "<tr>\t<td>\tbar\t</td>\t<td>\tIs it a candy bar?\t</td>\n",
    "<tr>\t<td>\tpluribus\t</td>\t<td>\tIs it one of many candies in a bag or box?\t</td>\n",
    "<tr>\t<td>\tsugarpercent\t</td>\t<td>\tThe percentile of sugar it falls under within the data set\t</td>\n",
    "<tr>\t<td>\tpricepercent\t</td>\t<td>\tThe unit price percentile compared to the rest of the set\t</td>\n",
    "<tr>\t<td>\twinpercent\t</td>\t<td>\tThe overall win percentage\t</td>\n",
    "</table>"
   ]
  },
  {
   "cell_type": "code",
   "execution_count": 9,
   "metadata": {},
   "outputs": [],
   "source": [
    "## Importing Important Libraries\n",
    "import numpy as np\n",
    "import pandas as pd\n",
    "import matplotlib.pyplot as plt\n",
    "%matplotlib inline\n",
    "import seaborn as sns\n",
    "import warnings\n",
    "warnings.filterwarnings('ignore')\n",
    "from pandas_profiling import profile_report"
   ]
  },
  {
   "cell_type": "code",
   "execution_count": 3,
   "metadata": {},
   "outputs": [],
   "source": [
    "# Sklearn Libraries\n",
    "from sklearn.preprocessing import StandardScaler, RobustScaler\n",
    "from sklearn.model_selection import train_test_split\n",
    "from sklearn.metrics import mean_squared_error\n",
    "from sklearn.linear_model import LinearRegression\n",
    "from sklearn.tree import DecisionTreeRegressor\n",
    "from sklearn.ensemble import RandomForestRegressor\n",
    "from sklearn.feature_selection import SelectFromModel"
   ]
  },
  {
   "cell_type": "code",
   "execution_count": 5,
   "metadata": {},
   "outputs": [
    {
     "name": "stdout",
     "output_type": "stream",
     "text": [
      "(68, 13)\n"
     ]
    },
    {
     "data": {
      "text/html": [
       "<div>\n",
       "<style scoped>\n",
       "    .dataframe tbody tr th:only-of-type {\n",
       "        vertical-align: middle;\n",
       "    }\n",
       "\n",
       "    .dataframe tbody tr th {\n",
       "        vertical-align: top;\n",
       "    }\n",
       "\n",
       "    .dataframe thead th {\n",
       "        text-align: right;\n",
       "    }\n",
       "</style>\n",
       "<table border=\"1\" class=\"dataframe\">\n",
       "  <thead>\n",
       "    <tr style=\"text-align: right;\">\n",
       "      <th></th>\n",
       "      <th>competitorname</th>\n",
       "      <th>chocolate</th>\n",
       "      <th>fruity</th>\n",
       "      <th>caramel</th>\n",
       "      <th>peanutyalmondy</th>\n",
       "      <th>nougat</th>\n",
       "      <th>crispedricewafer</th>\n",
       "      <th>hard</th>\n",
       "      <th>bar</th>\n",
       "      <th>pluribus</th>\n",
       "      <th>sugarpercent</th>\n",
       "      <th>pricepercent</th>\n",
       "      <th>winpercent</th>\n",
       "    </tr>\n",
       "  </thead>\n",
       "  <tbody>\n",
       "    <tr>\n",
       "      <th>0</th>\n",
       "      <td>Sugar Daddy</td>\n",
       "      <td>0</td>\n",
       "      <td>0</td>\n",
       "      <td>1</td>\n",
       "      <td>0</td>\n",
       "      <td>0</td>\n",
       "      <td>0</td>\n",
       "      <td>0</td>\n",
       "      <td>0</td>\n",
       "      <td>0</td>\n",
       "      <td>0.418</td>\n",
       "      <td>0.325</td>\n",
       "      <td>32.230995</td>\n",
       "    </tr>\n",
       "    <tr>\n",
       "      <th>1</th>\n",
       "      <td>Milky Way Simply Caramel</td>\n",
       "      <td>1</td>\n",
       "      <td>0</td>\n",
       "      <td>1</td>\n",
       "      <td>0</td>\n",
       "      <td>0</td>\n",
       "      <td>0</td>\n",
       "      <td>0</td>\n",
       "      <td>1</td>\n",
       "      <td>0</td>\n",
       "      <td>0.965</td>\n",
       "      <td>0.860</td>\n",
       "      <td>64.353340</td>\n",
       "    </tr>\n",
       "    <tr>\n",
       "      <th>2</th>\n",
       "      <td>Dots</td>\n",
       "      <td>0</td>\n",
       "      <td>1</td>\n",
       "      <td>0</td>\n",
       "      <td>0</td>\n",
       "      <td>0</td>\n",
       "      <td>0</td>\n",
       "      <td>0</td>\n",
       "      <td>0</td>\n",
       "      <td>1</td>\n",
       "      <td>0.732</td>\n",
       "      <td>0.511</td>\n",
       "      <td>42.272076</td>\n",
       "    </tr>\n",
       "    <tr>\n",
       "      <th>3</th>\n",
       "      <td>ReeseÕs pieces</td>\n",
       "      <td>1</td>\n",
       "      <td>0</td>\n",
       "      <td>0</td>\n",
       "      <td>1</td>\n",
       "      <td>0</td>\n",
       "      <td>0</td>\n",
       "      <td>0</td>\n",
       "      <td>0</td>\n",
       "      <td>1</td>\n",
       "      <td>0.406</td>\n",
       "      <td>0.651</td>\n",
       "      <td>73.434990</td>\n",
       "    </tr>\n",
       "    <tr>\n",
       "      <th>4</th>\n",
       "      <td>Skittles original</td>\n",
       "      <td>0</td>\n",
       "      <td>1</td>\n",
       "      <td>0</td>\n",
       "      <td>0</td>\n",
       "      <td>0</td>\n",
       "      <td>0</td>\n",
       "      <td>0</td>\n",
       "      <td>0</td>\n",
       "      <td>1</td>\n",
       "      <td>0.941</td>\n",
       "      <td>0.220</td>\n",
       "      <td>63.085140</td>\n",
       "    </tr>\n",
       "  </tbody>\n",
       "</table>\n",
       "</div>"
      ],
      "text/plain": [
       "             competitorname  chocolate  fruity  caramel  peanutyalmondy  \\\n",
       "0               Sugar Daddy          0       0        1               0   \n",
       "1  Milky Way Simply Caramel          1       0        1               0   \n",
       "2                      Dots          0       1        0               0   \n",
       "3            ReeseÕs pieces          1       0        0               1   \n",
       "4         Skittles original          0       1        0               0   \n",
       "\n",
       "   nougat  crispedricewafer  hard  bar  pluribus  sugarpercent  pricepercent  \\\n",
       "0       0                 0     0    0         0         0.418         0.325   \n",
       "1       0                 0     0    1         0         0.965         0.860   \n",
       "2       0                 0     0    0         1         0.732         0.511   \n",
       "3       0                 0     0    0         1         0.406         0.651   \n",
       "4       0                 0     0    0         1         0.941         0.220   \n",
       "\n",
       "   winpercent  \n",
       "0   32.230995  \n",
       "1   64.353340  \n",
       "2   42.272076  \n",
       "3   73.434990  \n",
       "4   63.085140  "
      ]
     },
     "execution_count": 5,
     "metadata": {},
     "output_type": "execute_result"
    }
   ],
   "source": [
    "train_data = pd.read_csv('candy_train.csv')\n",
    "print(train_data.shape)\n",
    "train_data.head()"
   ]
  },
  {
   "cell_type": "code",
   "execution_count": 6,
   "metadata": {},
   "outputs": [
    {
     "name": "stdout",
     "output_type": "stream",
     "text": [
      "(17, 12)\n"
     ]
    },
    {
     "data": {
      "text/html": [
       "<div>\n",
       "<style scoped>\n",
       "    .dataframe tbody tr th:only-of-type {\n",
       "        vertical-align: middle;\n",
       "    }\n",
       "\n",
       "    .dataframe tbody tr th {\n",
       "        vertical-align: top;\n",
       "    }\n",
       "\n",
       "    .dataframe thead th {\n",
       "        text-align: right;\n",
       "    }\n",
       "</style>\n",
       "<table border=\"1\" class=\"dataframe\">\n",
       "  <thead>\n",
       "    <tr style=\"text-align: right;\">\n",
       "      <th></th>\n",
       "      <th>competitorname</th>\n",
       "      <th>chocolate</th>\n",
       "      <th>fruity</th>\n",
       "      <th>caramel</th>\n",
       "      <th>peanutyalmondy</th>\n",
       "      <th>nougat</th>\n",
       "      <th>crispedricewafer</th>\n",
       "      <th>hard</th>\n",
       "      <th>bar</th>\n",
       "      <th>pluribus</th>\n",
       "      <th>sugarpercent</th>\n",
       "      <th>pricepercent</th>\n",
       "    </tr>\n",
       "  </thead>\n",
       "  <tbody>\n",
       "    <tr>\n",
       "      <th>0</th>\n",
       "      <td>Chiclets</td>\n",
       "      <td>0</td>\n",
       "      <td>1</td>\n",
       "      <td>0</td>\n",
       "      <td>0</td>\n",
       "      <td>0</td>\n",
       "      <td>0</td>\n",
       "      <td>0</td>\n",
       "      <td>0</td>\n",
       "      <td>1</td>\n",
       "      <td>0.046</td>\n",
       "      <td>0.325</td>\n",
       "    </tr>\n",
       "    <tr>\n",
       "      <th>1</th>\n",
       "      <td>Warheads</td>\n",
       "      <td>0</td>\n",
       "      <td>1</td>\n",
       "      <td>0</td>\n",
       "      <td>0</td>\n",
       "      <td>0</td>\n",
       "      <td>0</td>\n",
       "      <td>1</td>\n",
       "      <td>0</td>\n",
       "      <td>0</td>\n",
       "      <td>0.093</td>\n",
       "      <td>0.116</td>\n",
       "    </tr>\n",
       "    <tr>\n",
       "      <th>2</th>\n",
       "      <td>Haribo Happy Cola</td>\n",
       "      <td>0</td>\n",
       "      <td>0</td>\n",
       "      <td>0</td>\n",
       "      <td>0</td>\n",
       "      <td>0</td>\n",
       "      <td>0</td>\n",
       "      <td>0</td>\n",
       "      <td>0</td>\n",
       "      <td>1</td>\n",
       "      <td>0.465</td>\n",
       "      <td>0.465</td>\n",
       "    </tr>\n",
       "    <tr>\n",
       "      <th>3</th>\n",
       "      <td>Mounds</td>\n",
       "      <td>1</td>\n",
       "      <td>0</td>\n",
       "      <td>0</td>\n",
       "      <td>0</td>\n",
       "      <td>0</td>\n",
       "      <td>0</td>\n",
       "      <td>0</td>\n",
       "      <td>1</td>\n",
       "      <td>0</td>\n",
       "      <td>0.313</td>\n",
       "      <td>0.860</td>\n",
       "    </tr>\n",
       "    <tr>\n",
       "      <th>4</th>\n",
       "      <td>Nerds</td>\n",
       "      <td>0</td>\n",
       "      <td>1</td>\n",
       "      <td>0</td>\n",
       "      <td>0</td>\n",
       "      <td>0</td>\n",
       "      <td>0</td>\n",
       "      <td>1</td>\n",
       "      <td>0</td>\n",
       "      <td>1</td>\n",
       "      <td>0.848</td>\n",
       "      <td>0.325</td>\n",
       "    </tr>\n",
       "  </tbody>\n",
       "</table>\n",
       "</div>"
      ],
      "text/plain": [
       "      competitorname  chocolate  fruity  caramel  peanutyalmondy  nougat  \\\n",
       "0           Chiclets          0       1        0               0       0   \n",
       "1           Warheads          0       1        0               0       0   \n",
       "2  Haribo Happy Cola          0       0        0               0       0   \n",
       "3             Mounds          1       0        0               0       0   \n",
       "4              Nerds          0       1        0               0       0   \n",
       "\n",
       "   crispedricewafer  hard  bar  pluribus  sugarpercent  pricepercent  \n",
       "0                 0     0    0         1         0.046         0.325  \n",
       "1                 0     1    0         0         0.093         0.116  \n",
       "2                 0     0    0         1         0.465         0.465  \n",
       "3                 0     0    1         0         0.313         0.860  \n",
       "4                 0     1    0         1         0.848         0.325  "
      ]
     },
     "execution_count": 6,
     "metadata": {},
     "output_type": "execute_result"
    }
   ],
   "source": [
    "test_data = pd.read_csv('candy_test.csv')\n",
    "print(test_data.shape)\n",
    "test_data.head()"
   ]
  },
  {
   "cell_type": "code",
   "execution_count": 7,
   "metadata": {},
   "outputs": [
    {
     "name": "stdout",
     "output_type": "stream",
     "text": [
      "<class 'pandas.core.frame.DataFrame'>\n",
      "RangeIndex: 68 entries, 0 to 67\n",
      "Data columns (total 13 columns):\n",
      " #   Column            Non-Null Count  Dtype  \n",
      "---  ------            --------------  -----  \n",
      " 0   competitorname    68 non-null     object \n",
      " 1   chocolate         68 non-null     int64  \n",
      " 2   fruity            68 non-null     int64  \n",
      " 3   caramel           68 non-null     int64  \n",
      " 4   peanutyalmondy    68 non-null     int64  \n",
      " 5   nougat            68 non-null     int64  \n",
      " 6   crispedricewafer  68 non-null     int64  \n",
      " 7   hard              68 non-null     int64  \n",
      " 8   bar               68 non-null     int64  \n",
      " 9   pluribus          68 non-null     int64  \n",
      " 10  sugarpercent      68 non-null     float64\n",
      " 11  pricepercent      68 non-null     float64\n",
      " 12  winpercent        68 non-null     float64\n",
      "dtypes: float64(3), int64(9), object(1)\n",
      "memory usage: 7.0+ KB\n"
     ]
    }
   ],
   "source": [
    "train_data.info()"
   ]
  },
  {
   "cell_type": "code",
   "execution_count": 8,
   "metadata": {},
   "outputs": [
    {
     "data": {
      "text/html": [
       "<div>\n",
       "<style scoped>\n",
       "    .dataframe tbody tr th:only-of-type {\n",
       "        vertical-align: middle;\n",
       "    }\n",
       "\n",
       "    .dataframe tbody tr th {\n",
       "        vertical-align: top;\n",
       "    }\n",
       "\n",
       "    .dataframe thead th {\n",
       "        text-align: right;\n",
       "    }\n",
       "</style>\n",
       "<table border=\"1\" class=\"dataframe\">\n",
       "  <thead>\n",
       "    <tr style=\"text-align: right;\">\n",
       "      <th></th>\n",
       "      <th>chocolate</th>\n",
       "      <th>fruity</th>\n",
       "      <th>caramel</th>\n",
       "      <th>peanutyalmondy</th>\n",
       "      <th>nougat</th>\n",
       "      <th>crispedricewafer</th>\n",
       "      <th>hard</th>\n",
       "      <th>bar</th>\n",
       "      <th>pluribus</th>\n",
       "      <th>sugarpercent</th>\n",
       "      <th>pricepercent</th>\n",
       "      <th>winpercent</th>\n",
       "    </tr>\n",
       "  </thead>\n",
       "  <tbody>\n",
       "    <tr>\n",
       "      <th>count</th>\n",
       "      <td>68.000000</td>\n",
       "      <td>68.000000</td>\n",
       "      <td>68.000000</td>\n",
       "      <td>68.000000</td>\n",
       "      <td>68.000000</td>\n",
       "      <td>68.000000</td>\n",
       "      <td>68.000000</td>\n",
       "      <td>68.000000</td>\n",
       "      <td>68.000000</td>\n",
       "      <td>68.000000</td>\n",
       "      <td>68.000000</td>\n",
       "      <td>68.000000</td>\n",
       "    </tr>\n",
       "    <tr>\n",
       "      <th>mean</th>\n",
       "      <td>0.455882</td>\n",
       "      <td>0.441176</td>\n",
       "      <td>0.191176</td>\n",
       "      <td>0.191176</td>\n",
       "      <td>0.102941</td>\n",
       "      <td>0.102941</td>\n",
       "      <td>0.147059</td>\n",
       "      <td>0.294118</td>\n",
       "      <td>0.485294</td>\n",
       "      <td>0.474632</td>\n",
       "      <td>0.496603</td>\n",
       "      <td>51.531087</td>\n",
       "    </tr>\n",
       "    <tr>\n",
       "      <th>std</th>\n",
       "      <td>0.501753</td>\n",
       "      <td>0.500219</td>\n",
       "      <td>0.396151</td>\n",
       "      <td>0.396151</td>\n",
       "      <td>0.306141</td>\n",
       "      <td>0.306141</td>\n",
       "      <td>0.356798</td>\n",
       "      <td>0.459033</td>\n",
       "      <td>0.503500</td>\n",
       "      <td>0.278968</td>\n",
       "      <td>0.285002</td>\n",
       "      <td>14.768819</td>\n",
       "    </tr>\n",
       "    <tr>\n",
       "      <th>min</th>\n",
       "      <td>0.000000</td>\n",
       "      <td>0.000000</td>\n",
       "      <td>0.000000</td>\n",
       "      <td>0.000000</td>\n",
       "      <td>0.000000</td>\n",
       "      <td>0.000000</td>\n",
       "      <td>0.000000</td>\n",
       "      <td>0.000000</td>\n",
       "      <td>0.000000</td>\n",
       "      <td>0.011000</td>\n",
       "      <td>0.034000</td>\n",
       "      <td>22.445341</td>\n",
       "    </tr>\n",
       "    <tr>\n",
       "      <th>25%</th>\n",
       "      <td>0.000000</td>\n",
       "      <td>0.000000</td>\n",
       "      <td>0.000000</td>\n",
       "      <td>0.000000</td>\n",
       "      <td>0.000000</td>\n",
       "      <td>0.000000</td>\n",
       "      <td>0.000000</td>\n",
       "      <td>0.000000</td>\n",
       "      <td>0.000000</td>\n",
       "      <td>0.220000</td>\n",
       "      <td>0.276000</td>\n",
       "      <td>40.810833</td>\n",
       "    </tr>\n",
       "    <tr>\n",
       "      <th>50%</th>\n",
       "      <td>0.000000</td>\n",
       "      <td>0.000000</td>\n",
       "      <td>0.000000</td>\n",
       "      <td>0.000000</td>\n",
       "      <td>0.000000</td>\n",
       "      <td>0.000000</td>\n",
       "      <td>0.000000</td>\n",
       "      <td>0.000000</td>\n",
       "      <td>0.000000</td>\n",
       "      <td>0.465000</td>\n",
       "      <td>0.511000</td>\n",
       "      <td>51.344505</td>\n",
       "    </tr>\n",
       "    <tr>\n",
       "      <th>75%</th>\n",
       "      <td>1.000000</td>\n",
       "      <td>1.000000</td>\n",
       "      <td>0.000000</td>\n",
       "      <td>0.000000</td>\n",
       "      <td>0.000000</td>\n",
       "      <td>0.000000</td>\n",
       "      <td>0.000000</td>\n",
       "      <td>1.000000</td>\n",
       "      <td>1.000000</td>\n",
       "      <td>0.732000</td>\n",
       "      <td>0.767000</td>\n",
       "      <td>62.484646</td>\n",
       "    </tr>\n",
       "    <tr>\n",
       "      <th>max</th>\n",
       "      <td>1.000000</td>\n",
       "      <td>1.000000</td>\n",
       "      <td>1.000000</td>\n",
       "      <td>1.000000</td>\n",
       "      <td>1.000000</td>\n",
       "      <td>1.000000</td>\n",
       "      <td>1.000000</td>\n",
       "      <td>1.000000</td>\n",
       "      <td>1.000000</td>\n",
       "      <td>0.988000</td>\n",
       "      <td>0.976000</td>\n",
       "      <td>81.866257</td>\n",
       "    </tr>\n",
       "  </tbody>\n",
       "</table>\n",
       "</div>"
      ],
      "text/plain": [
       "       chocolate     fruity    caramel  peanutyalmondy     nougat  \\\n",
       "count  68.000000  68.000000  68.000000       68.000000  68.000000   \n",
       "mean    0.455882   0.441176   0.191176        0.191176   0.102941   \n",
       "std     0.501753   0.500219   0.396151        0.396151   0.306141   \n",
       "min     0.000000   0.000000   0.000000        0.000000   0.000000   \n",
       "25%     0.000000   0.000000   0.000000        0.000000   0.000000   \n",
       "50%     0.000000   0.000000   0.000000        0.000000   0.000000   \n",
       "75%     1.000000   1.000000   0.000000        0.000000   0.000000   \n",
       "max     1.000000   1.000000   1.000000        1.000000   1.000000   \n",
       "\n",
       "       crispedricewafer       hard        bar   pluribus  sugarpercent  \\\n",
       "count         68.000000  68.000000  68.000000  68.000000     68.000000   \n",
       "mean           0.102941   0.147059   0.294118   0.485294      0.474632   \n",
       "std            0.306141   0.356798   0.459033   0.503500      0.278968   \n",
       "min            0.000000   0.000000   0.000000   0.000000      0.011000   \n",
       "25%            0.000000   0.000000   0.000000   0.000000      0.220000   \n",
       "50%            0.000000   0.000000   0.000000   0.000000      0.465000   \n",
       "75%            0.000000   0.000000   1.000000   1.000000      0.732000   \n",
       "max            1.000000   1.000000   1.000000   1.000000      0.988000   \n",
       "\n",
       "       pricepercent  winpercent  \n",
       "count     68.000000   68.000000  \n",
       "mean       0.496603   51.531087  \n",
       "std        0.285002   14.768819  \n",
       "min        0.034000   22.445341  \n",
       "25%        0.276000   40.810833  \n",
       "50%        0.511000   51.344505  \n",
       "75%        0.767000   62.484646  \n",
       "max        0.976000   81.866257  "
      ]
     },
     "execution_count": 8,
     "metadata": {},
     "output_type": "execute_result"
    }
   ],
   "source": [
    "train_data.describe()"
   ]
  },
  {
   "cell_type": "code",
   "execution_count": 10,
   "metadata": {},
   "outputs": [],
   "source": [
    "# Profiling of the Data\n",
    "#PR = train_data.profile_report(title = 'PR',progress_bar=False)\n",
    "#PR.to_file('PR.html')"
   ]
  },
  {
   "cell_type": "markdown",
   "metadata": {},
   "source": [
    "### Profiling of the Data\n",
    "\n",
    "### Dataset statistics\n",
    "\n",
    "- Number of variables\t13\n",
    "- Number of observations\t68\n",
    "- Missing cells\t0\n",
    "\n",
    "#### Variable Types\n",
    "- Categorical\t1\n",
    "- Numeric\t12\n",
    "\n",
    "#### Feature Information\n",
    "\n",
    "- 1 - Competitor Name - Unique Values\n",
    "- 2 - Chocolate - 0 - 37 , 1- 31\n",
    "- 3 - Fruity - 0 - 38, 1 - 30\n",
    "- 4 - Caramel - 0 - 55, 1 - 13\n",
    "- 5 - PeanutyAlmondy -  0 -55, 1 -13\n",
    "- 6 - Nougat - 0- 61 ,1- 7\n",
    "- 7 - CrispeDriceWater - 0 - 61,1 - 7\n",
    "- 8 - Hard -  0 - 58,1 - 10\n",
    "- 9 - Bar- 0 - 48, 1 - 20\n",
    "- 10 - Pluribus - 0 - 35 ,1 -33\n",
    "- 11 - SugarPercent - Almost Normally Distributed ,Range - 0.97, Mean - 0.47\n",
    "- 12 - PricePercent - Almost Normally Distributed ,Range - 0.94, Mean - 0.49\n",
    "- 13 - <b> WinPercent </b> - Target Variable"
   ]
  },
  {
   "cell_type": "markdown",
   "metadata": {},
   "source": [
    "### Exploratory Data Analysis"
   ]
  },
  {
   "cell_type": "code",
   "execution_count": 19,
   "metadata": {},
   "outputs": [
    {
     "data": {
      "text/plain": [
       "Index(['competitorname', 'chocolate', 'fruity', 'caramel', 'peanutyalmondy',\n",
       "       'nougat', 'crispedricewafer', 'hard', 'bar', 'pluribus', 'sugarpercent',\n",
       "       'pricepercent', 'winpercent'],\n",
       "      dtype='object')"
      ]
     },
     "execution_count": 19,
     "metadata": {},
     "output_type": "execute_result"
    }
   ],
   "source": [
    "train_data.columns"
   ]
  },
  {
   "cell_type": "markdown",
   "metadata": {},
   "source": [
    "### Q1 -  What is the Distribution of the All the Binary variables\n"
   ]
  },
  {
   "cell_type": "code",
   "execution_count": 38,
   "metadata": {},
   "outputs": [
    {
     "data": {
      "image/png": "[encoded data removed]",
      "text/plain": [
       "<Figure size 1152x504 with 10 Axes>"
      ]
     },
     "metadata": {
      "needs_background": "light"
     },
     "output_type": "display_data"
    }
   ],
   "source": [
    "f,axes = plt.subplots(2,5,figsize=(16,7))\n",
    "sns.countplot(train_data['chocolate'],ax=axes[0,0])\n",
    "sns.countplot(train_data['fruity'],ax=axes[0,1])\n",
    "sns.countplot(train_data['caramel'],ax=axes[0,2])\n",
    "sns.countplot(train_data['peanutyalmondy'],ax=axes[0,3])\n",
    "sns.countplot(train_data['nougat'],ax=axes[0,4])\n",
    "sns.countplot(train_data['crispedricewafer'],ax=axes[1,0])\n",
    "sns.countplot(train_data['hard'],ax=axes[1,1])\n",
    "sns.countplot(train_data['bar'],ax=axes[1,2])\n",
    "sns.countplot(train_data['pluribus'],ax=axes[1,3]);"
   ]
  },
  {
   "cell_type": "markdown",
   "metadata": {},
   "source": [
    "### Insights - 1) Chocolate, Fruity and Pluribus are mostly equall in the dataset. Rest everyone have very in limited number"
   ]
  },
  {
   "cell_type": "markdown",
   "metadata": {},
   "source": [
    "### Q2 - What is the Relationship of all Binary Variable with all the TargetVariables"
   ]
  },
  {
   "cell_type": "code",
   "execution_count": 37,
   "metadata": {},
   "outputs": [
    {
     "data": {
      "image/png": "[encoded data removed]",
      "text/plain": [
       "<Figure size 1152x504 with 10 Axes>"
      ]
     },
     "metadata": {
      "needs_background": "light"
     },
     "output_type": "display_data"
    }
   ],
   "source": [
    "f,axes = plt.subplots(2,5,figsize=(16,7))\n",
    "sns.boxplot(data=train_data, x='chocolate', y='winpercent',ax=axes[0,0])\n",
    "sns.boxplot(data=train_data, x='fruity', y='winpercent',ax=axes[0,1])\n",
    "sns.boxplot(data=train_data, x='caramel', y='winpercent',ax=axes[0,2])\n",
    "sns.boxplot(data=train_data, x='peanutyalmondy', y='winpercent',ax=axes[0,3])\n",
    "sns.boxplot(data=train_data, x='nougat', y='winpercent',ax=axes[0,4])\n",
    "sns.boxplot(data=train_data, x='crispedricewafer', y='winpercent',ax=axes[1,0])\n",
    "sns.boxplot(data=train_data, x='hard', y='winpercent',ax=axes[1,1])\n",
    "sns.boxplot(data=train_data, x='bar', y='winpercent',ax=axes[1,2])\n",
    "sns.boxplot(data=train_data, x='pluribus', y='winpercent',ax=axes[1,3]);\n"
   ]
  },
  {
   "cell_type": "markdown",
   "metadata": {},
   "source": [
    "#### Insights - 1) Winpercent is lower when chocolate is hard, fruity and almost equal when it has pluribus. 2) Winpercent is all above 50% when chocolate has Crispedrice water peanuty almondy"
   ]
  },
  {
   "cell_type": "markdown",
   "metadata": {},
   "source": [
    "### Q3 - Distribution of Continous Variable with Target Variable"
   ]
  },
  {
   "cell_type": "code",
   "execution_count": 40,
   "metadata": {},
   "outputs": [
    {
     "data": {
      "text/plain": [
       "<AxesSubplot:xlabel='sugarpercent', ylabel='winpercent'>"
      ]
     },
     "execution_count": 40,
     "metadata": {},
     "output_type": "execute_result"
    },
    {
     "data": {
      "image/png": "[encoded data removed]",
      "text/plain": [
       "<Figure size 432x288 with 1 Axes>"
      ]
     },
     "metadata": {
      "needs_background": "light"
     },
     "output_type": "display_data"
    }
   ],
   "source": [
    "sns.regplot(data=train_data, x='sugarpercent',y='winpercent')"
   ]
  },
  {
   "cell_type": "code",
   "execution_count": 44,
   "metadata": {},
   "outputs": [
    {
     "data": {
      "text/plain": [
       "<AxesSubplot:xlabel='pricepercent', ylabel='winpercent'>"
      ]
     },
     "execution_count": 44,
     "metadata": {},
     "output_type": "execute_result"
    },
    {
     "data": {
      "image/png": "[encoded data removed]",
      "text/plain": [
       "<Figure size 432x288 with 1 Axes>"
      ]
     },
     "metadata": {
      "needs_background": "light"
     },
     "output_type": "display_data"
    }
   ],
   "source": [
    "sns.regplot(data=train_data, x='pricepercent',y='winpercent')"
   ]
  },
  {
   "cell_type": "markdown",
   "metadata": {},
   "source": [
    "### Q4 -  What is the Correlation of the data with Target Variable"
   ]
  },
  {
   "cell_type": "code",
   "execution_count": 48,
   "metadata": {},
   "outputs": [
    {
     "data": {
      "text/plain": [
       "chocolate           0.645048\n",
       "fruity             -0.427243\n",
       "caramel             0.253867\n",
       "peanutyalmondy      0.351217\n",
       "nougat              0.196895\n",
       "crispedricewafer    0.338276\n",
       "hard               -0.386572\n",
       "bar                 0.459586\n",
       "pluribus           -0.221992\n",
       "sugarpercent        0.209999\n",
       "pricepercent        0.316731\n",
       "winpercent          1.000000\n",
       "Name: winpercent, dtype: float64"
      ]
     },
     "execution_count": 48,
     "metadata": {},
     "output_type": "execute_result"
    }
   ],
   "source": [
    "train_data.corr()['winpercent']"
   ]
  },
  {
   "cell_type": "code",
   "execution_count": 60,
   "metadata": {},
   "outputs": [
    {
     "name": "stdout",
     "output_type": "stream",
     "text": [
      "(68, 11) (68,)\n",
      "(54, 11) (14, 11) (54,) (14,)\n"
     ]
    }
   ],
   "source": [
    "# Splitting the Data into X and y\n",
    "X = train_data.drop(['competitorname','winpercent'],axis=1)\n",
    "y=train_data['winpercent']\n",
    "print(X.shape,y.shape)\n",
    "X_train,X_test,y_train,y_test=train_test_split(X,y,random_state=42,test_size=0.2)\n",
    "print(X_train.shape,X_test.shape,y_train.shape,y_test.shape)"
   ]
  },
  {
   "cell_type": "code",
   "execution_count": 61,
   "metadata": {},
   "outputs": [
    {
     "data": {
      "text/html": [
       "<div>\n",
       "<style scoped>\n",
       "    .dataframe tbody tr th:only-of-type {\n",
       "        vertical-align: middle;\n",
       "    }\n",
       "\n",
       "    .dataframe tbody tr th {\n",
       "        vertical-align: top;\n",
       "    }\n",
       "\n",
       "    .dataframe thead th {\n",
       "        text-align: right;\n",
       "    }\n",
       "</style>\n",
       "<table border=\"1\" class=\"dataframe\">\n",
       "  <thead>\n",
       "    <tr style=\"text-align: right;\">\n",
       "      <th></th>\n",
       "      <th>chocolate</th>\n",
       "      <th>fruity</th>\n",
       "      <th>caramel</th>\n",
       "      <th>peanutyalmondy</th>\n",
       "      <th>nougat</th>\n",
       "      <th>crispedricewafer</th>\n",
       "      <th>hard</th>\n",
       "      <th>bar</th>\n",
       "      <th>pluribus</th>\n",
       "      <th>sugarpercent</th>\n",
       "      <th>pricepercent</th>\n",
       "    </tr>\n",
       "  </thead>\n",
       "  <tbody>\n",
       "    <tr>\n",
       "      <th>46</th>\n",
       "      <td>1.077033</td>\n",
       "      <td>-0.894427</td>\n",
       "      <td>2.236068</td>\n",
       "      <td>2.097618</td>\n",
       "      <td>3.130495</td>\n",
       "      <td>-0.319438</td>\n",
       "      <td>-0.417029</td>\n",
       "      <td>1.541104</td>\n",
       "      <td>-1.118034</td>\n",
       "      <td>0.279020</td>\n",
       "      <td>0.550345</td>\n",
       "    </tr>\n",
       "    <tr>\n",
       "      <th>16</th>\n",
       "      <td>1.077033</td>\n",
       "      <td>-0.894427</td>\n",
       "      <td>-0.447214</td>\n",
       "      <td>-0.476731</td>\n",
       "      <td>-0.319438</td>\n",
       "      <td>3.130495</td>\n",
       "      <td>-0.417029</td>\n",
       "      <td>1.541104</td>\n",
       "      <td>-1.118034</td>\n",
       "      <td>-0.143967</td>\n",
       "      <td>1.501426</td>\n",
       "    </tr>\n",
       "    <tr>\n",
       "      <th>4</th>\n",
       "      <td>-0.928477</td>\n",
       "      <td>1.118034</td>\n",
       "      <td>-0.447214</td>\n",
       "      <td>-0.476731</td>\n",
       "      <td>-0.319438</td>\n",
       "      <td>-0.319438</td>\n",
       "      <td>-0.417029</td>\n",
       "      <td>-0.648886</td>\n",
       "      <td>0.894427</td>\n",
       "      <td>1.719363</td>\n",
       "      <td>-0.984921</td>\n",
       "    </tr>\n",
       "    <tr>\n",
       "      <th>9</th>\n",
       "      <td>1.077033</td>\n",
       "      <td>-0.894427</td>\n",
       "      <td>-0.447214</td>\n",
       "      <td>-0.476731</td>\n",
       "      <td>3.130495</td>\n",
       "      <td>-0.319438</td>\n",
       "      <td>-0.417029</td>\n",
       "      <td>1.541104</td>\n",
       "      <td>-1.118034</td>\n",
       "      <td>0.490513</td>\n",
       "      <td>0.051650</td>\n",
       "    </tr>\n",
       "    <tr>\n",
       "      <th>28</th>\n",
       "      <td>1.077033</td>\n",
       "      <td>-0.894427</td>\n",
       "      <td>-0.447214</td>\n",
       "      <td>-0.476731</td>\n",
       "      <td>-0.319438</td>\n",
       "      <td>3.130495</td>\n",
       "      <td>-0.417029</td>\n",
       "      <td>-0.648886</td>\n",
       "      <td>0.894427</td>\n",
       "      <td>1.467759</td>\n",
       "      <td>1.252079</td>\n",
       "    </tr>\n",
       "  </tbody>\n",
       "</table>\n",
       "</div>"
      ],
      "text/plain": [
       "    chocolate    fruity   caramel  peanutyalmondy    nougat  crispedricewafer  \\\n",
       "46   1.077033 -0.894427  2.236068        2.097618  3.130495         -0.319438   \n",
       "16   1.077033 -0.894427 -0.447214       -0.476731 -0.319438          3.130495   \n",
       "4   -0.928477  1.118034 -0.447214       -0.476731 -0.319438         -0.319438   \n",
       "9    1.077033 -0.894427 -0.447214       -0.476731  3.130495         -0.319438   \n",
       "28   1.077033 -0.894427 -0.447214       -0.476731 -0.319438          3.130495   \n",
       "\n",
       "        hard       bar  pluribus  sugarpercent  pricepercent  \n",
       "46 -0.417029  1.541104 -1.118034      0.279020      0.550345  \n",
       "16 -0.417029  1.541104 -1.118034     -0.143967      1.501426  \n",
       "4  -0.417029 -0.648886  0.894427      1.719363     -0.984921  \n",
       "9  -0.417029  1.541104 -1.118034      0.490513      0.051650  \n",
       "28 -0.417029 -0.648886  0.894427      1.467759      1.252079  "
      ]
     },
     "execution_count": 61,
     "metadata": {},
     "output_type": "execute_result"
    }
   ],
   "source": [
    "#Scaling the Data\n",
    "SS=StandardScaler()\n",
    "X_train[X_train.columns] = SS.fit_transform(X_train)\n",
    "X_test[X_test.columns] = SS.transform(X_test)\n",
    "X_test.head()"
   ]
  },
  {
   "cell_type": "code",
   "execution_count": 81,
   "metadata": {},
   "outputs": [
    {
     "name": "stdout",
     "output_type": "stream",
     "text": [
      "['chocolate', 'fruity', 'crispedricewafer', 'hard']\n",
      "2.87\n"
     ]
    }
   ],
   "source": [
    "# Selection the relevant columns using Selectfrom model option\n",
    "selector = SelectFromModel(LinearRegression())\n",
    "selector.fit(X_train,y_train)\n",
    "selector_feat= X_train.columns[selector.get_support()].to_list()\n",
    "print(selector_feat)\n",
    "print(np.round(selector.threshold_,decimals=2))"
   ]
  },
  {
   "cell_type": "code",
   "execution_count": 84,
   "metadata": {},
   "outputs": [
    {
     "name": "stdout",
     "output_type": "stream",
     "text": [
      "['chocolate', 'sugarpercent', 'pricepercent']\n",
      "0.09\n"
     ]
    }
   ],
   "source": [
    "# Selection the relevant columns using Selectfrom model option\n",
    "selector = SelectFromModel(DecisionTreeRegressor())\n",
    "selector.fit(X_train,y_train)\n",
    "selector_feat= X_train.columns[selector.get_support()].to_list()\n",
    "print(selector_feat)\n",
    "print(np.round(selector.threshold_,decimals=2))"
   ]
  },
  {
   "cell_type": "code",
   "execution_count": 64,
   "metadata": {},
   "outputs": [
    {
     "name": "stdout",
     "output_type": "stream",
     "text": [
      "['chocolate', 'sugarpercent', 'pricepercent']\n",
      "0.09\n"
     ]
    }
   ],
   "source": [
    "# Selection the relevant columns using Selectfrom model option\n",
    "selector = SelectFromModel(RandomForestRegressor())\n",
    "selector.fit(X_train,y_train)\n",
    "selector_feat= X_train.columns[selector.get_support()].to_list()\n",
    "print(selector_feat)\n",
    "print(np.round(selector.threshold_,decimals=2))"
   ]
  },
  {
   "cell_type": "code",
   "execution_count": 68,
   "metadata": {},
   "outputs": [
    {
     "name": "stdout",
     "output_type": "stream",
     "text": [
      "9.55660662791369\n",
      "13.343482009493687\n"
     ]
    }
   ],
   "source": [
    "### 1 - Linear Regression\n",
    "LR = LinearRegression()\n",
    "LR.fit(X_train,y_train)\n",
    "LR_pred_train = LR.predict(X_train)\n",
    "LR_pred_test = LR.predict(X_test)\n",
    "## Model Error Check\n",
    "print(np.sqrt(mean_squared_error(LR_pred_train,y_train)))\n",
    "print(np.sqrt(mean_squared_error(LR_pred_test,y_test)))"
   ]
  },
  {
   "cell_type": "code",
   "execution_count": 69,
   "metadata": {},
   "outputs": [
    {
     "name": "stdout",
     "output_type": "stream",
     "text": [
      "1.7197739976304003\n",
      "16.421999767055983\n"
     ]
    }
   ],
   "source": [
    "### 2 - Decision Tree Regressor\n",
    "DT= DecisionTreeRegressor()\n",
    "DT.fit(X_train,y_train)\n",
    "DT_pred_train = DT.predict(X_train)\n",
    "DT_pred_test =3 DT.predict(X_test)\n",
    "## Model Error Check\n",
    "print(np.sqrt(mean_squared_error(DT_pred_train,y_train)))\n",
    "print(np.sqrt(mean_squared_error(DT_pred_test,y_test)))"
   ]
  },
  {
   "cell_type": "code",
   "execution_count": 71,
   "metadata": {},
   "outputs": [
    {
     "name": "stdout",
     "output_type": "stream",
     "text": [
      "4.959164945233141\n",
      "12.372687702959889\n"
     ]
    }
   ],
   "source": [
    "###  - Random Forest Regressor\n",
    "RF= RandomForestRegressor()\n",
    "RF.fit(X_train,y_train)\n",
    "RF_pred_train = RF.predict(X_train)\n",
    "RF_pred_test = RF.predict(X_test)\n",
    "## Model Error Check\n",
    "print(np.sqrt(mean_squared_error(RF_pred_train,y_train)))\n",
    "print(np.sqrt(mean_squared_error(RF_pred_test,y_test)))"
   ]
  },
  {
   "cell_type": "code",
   "execution_count": 93,
   "metadata": {},
   "outputs": [
    {
     "name": "stdout",
     "output_type": "stream",
     "text": [
      "4.967988221569313\n",
      "10.372339073523435\n"
     ]
    }
   ],
   "source": [
    "X1_train = X_train[selector_feat]\n",
    "X1_test = X_test[selector_feat]\n",
    "\n",
    "###  - Random Forest Regressor\n",
    "RF= RandomForestRegressor()\n",
    "RF.fit(X1_train,y_train)\n",
    "RF_pred_train = RF.predict(X1_train)\n",
    "RF_pred_test = RF.predict(X1_test)\n",
    "## Model Error Check\n",
    "print(np.sqrt(mean_squared_error(RF_pred_train,y_train)))\n",
    "print(np.sqrt(mean_squared_error(RF_pred_test,y_test)))"
   ]
  },
  {
   "cell_type": "markdown",
   "metadata": {},
   "source": [
    "### Working on the Test Data"
   ]
  },
  {
   "cell_type": "code",
   "execution_count": 94,
   "metadata": {},
   "outputs": [],
   "source": [
    "test_data1 = test_data.copy()"
   ]
  },
  {
   "cell_type": "code",
   "execution_count": 96,
   "metadata": {},
   "outputs": [],
   "source": [
    "test_data1.drop('competitorname',axis=1,inplace=True)"
   ]
  },
  {
   "cell_type": "code",
   "execution_count": 97,
   "metadata": {},
   "outputs": [],
   "source": [
    "test_data1[test_data1.columns] = SS.transform(test_data1)"
   ]
  },
  {
   "cell_type": "code",
   "execution_count": 98,
   "metadata": {},
   "outputs": [
    {
     "data": {
      "text/html": [
       "<div>\n",
       "<style scoped>\n",
       "    .dataframe tbody tr th:only-of-type {\n",
       "        vertical-align: middle;\n",
       "    }\n",
       "\n",
       "    .dataframe tbody tr th {\n",
       "        vertical-align: top;\n",
       "    }\n",
       "\n",
       "    .dataframe thead th {\n",
       "        text-align: right;\n",
       "    }\n",
       "</style>\n",
       "<table border=\"1\" class=\"dataframe\">\n",
       "  <thead>\n",
       "    <tr style=\"text-align: right;\">\n",
       "      <th></th>\n",
       "      <th>chocolate</th>\n",
       "      <th>fruity</th>\n",
       "      <th>caramel</th>\n",
       "      <th>peanutyalmondy</th>\n",
       "      <th>nougat</th>\n",
       "      <th>crispedricewafer</th>\n",
       "      <th>hard</th>\n",
       "      <th>bar</th>\n",
       "      <th>pluribus</th>\n",
       "      <th>sugarpercent</th>\n",
       "      <th>pricepercent</th>\n",
       "    </tr>\n",
       "  </thead>\n",
       "  <tbody>\n",
       "    <tr>\n",
       "      <th>0</th>\n",
       "      <td>-0.928477</td>\n",
       "      <td>1.118034</td>\n",
       "      <td>-0.447214</td>\n",
       "      <td>-0.476731</td>\n",
       "      <td>-0.319438</td>\n",
       "      <td>-0.319438</td>\n",
       "      <td>-0.417029</td>\n",
       "      <td>-0.648886</td>\n",
       "      <td>0.894427</td>\n",
       "      <td>-1.544199</td>\n",
       "      <td>-0.610900</td>\n",
       "    </tr>\n",
       "    <tr>\n",
       "      <th>1</th>\n",
       "      <td>-0.928477</td>\n",
       "      <td>1.118034</td>\n",
       "      <td>-0.447214</td>\n",
       "      <td>-0.476731</td>\n",
       "      <td>-0.319438</td>\n",
       "      <td>-0.319438</td>\n",
       "      <td>2.397916</td>\n",
       "      <td>-0.648886</td>\n",
       "      <td>-1.118034</td>\n",
       "      <td>-1.372816</td>\n",
       "      <td>-1.355380</td>\n",
       "    </tr>\n",
       "    <tr>\n",
       "      <th>2</th>\n",
       "      <td>-0.928477</td>\n",
       "      <td>-0.894427</td>\n",
       "      <td>-0.447214</td>\n",
       "      <td>-0.476731</td>\n",
       "      <td>-0.319438</td>\n",
       "      <td>-0.319438</td>\n",
       "      <td>-0.417029</td>\n",
       "      <td>-0.648886</td>\n",
       "      <td>0.894427</td>\n",
       "      <td>-0.016341</td>\n",
       "      <td>-0.112206</td>\n",
       "    </tr>\n",
       "    <tr>\n",
       "      <th>3</th>\n",
       "      <td>1.077033</td>\n",
       "      <td>-0.894427</td>\n",
       "      <td>-0.447214</td>\n",
       "      <td>-0.476731</td>\n",
       "      <td>-0.319438</td>\n",
       "      <td>-0.319438</td>\n",
       "      <td>-0.417029</td>\n",
       "      <td>1.541104</td>\n",
       "      <td>-1.118034</td>\n",
       "      <td>-0.570600</td>\n",
       "      <td>1.294824</td>\n",
       "    </tr>\n",
       "    <tr>\n",
       "      <th>4</th>\n",
       "      <td>-0.928477</td>\n",
       "      <td>1.118034</td>\n",
       "      <td>-0.447214</td>\n",
       "      <td>-0.476731</td>\n",
       "      <td>-0.319438</td>\n",
       "      <td>-0.319438</td>\n",
       "      <td>2.397916</td>\n",
       "      <td>-0.648886</td>\n",
       "      <td>0.894427</td>\n",
       "      <td>1.380244</td>\n",
       "      <td>-0.610900</td>\n",
       "    </tr>\n",
       "  </tbody>\n",
       "</table>\n",
       "</div>"
      ],
      "text/plain": [
       "   chocolate    fruity   caramel  peanutyalmondy    nougat  crispedricewafer  \\\n",
       "0  -0.928477  1.118034 -0.447214       -0.476731 -0.319438         -0.319438   \n",
       "1  -0.928477  1.118034 -0.447214       -0.476731 -0.319438         -0.319438   \n",
       "2  -0.928477 -0.894427 -0.447214       -0.476731 -0.319438         -0.319438   \n",
       "3   1.077033 -0.894427 -0.447214       -0.476731 -0.319438         -0.319438   \n",
       "4  -0.928477  1.118034 -0.447214       -0.476731 -0.319438         -0.319438   \n",
       "\n",
       "       hard       bar  pluribus  sugarpercent  pricepercent  \n",
       "0 -0.417029 -0.648886  0.894427     -1.544199     -0.610900  \n",
       "1  2.397916 -0.648886 -1.118034     -1.372816     -1.355380  \n",
       "2 -0.417029 -0.648886  0.894427     -0.016341     -0.112206  \n",
       "3 -0.417029  1.541104 -1.118034     -0.570600      1.294824  \n",
       "4  2.397916 -0.648886  0.894427      1.380244     -0.610900  "
      ]
     },
     "execution_count": 98,
     "metadata": {},
     "output_type": "execute_result"
    }
   ],
   "source": [
    "test_data1.head()"
   ]
  },
  {
   "cell_type": "code",
   "execution_count": 99,
   "metadata": {},
   "outputs": [],
   "source": [
    "test_data1 = test_data1[selector_feat]"
   ]
  },
  {
   "cell_type": "code",
   "execution_count": 101,
   "metadata": {},
   "outputs": [
    {
     "data": {
      "text/html": [
       "<div>\n",
       "<style scoped>\n",
       "    .dataframe tbody tr th:only-of-type {\n",
       "        vertical-align: middle;\n",
       "    }\n",
       "\n",
       "    .dataframe tbody tr th {\n",
       "        vertical-align: top;\n",
       "    }\n",
       "\n",
       "    .dataframe thead th {\n",
       "        text-align: right;\n",
       "    }\n",
       "</style>\n",
       "<table border=\"1\" class=\"dataframe\">\n",
       "  <thead>\n",
       "    <tr style=\"text-align: right;\">\n",
       "      <th></th>\n",
       "      <th>chocolate</th>\n",
       "      <th>sugarpercent</th>\n",
       "      <th>pricepercent</th>\n",
       "    </tr>\n",
       "  </thead>\n",
       "  <tbody>\n",
       "    <tr>\n",
       "      <th>0</th>\n",
       "      <td>-0.928477</td>\n",
       "      <td>-1.544199</td>\n",
       "      <td>-0.610900</td>\n",
       "    </tr>\n",
       "    <tr>\n",
       "      <th>1</th>\n",
       "      <td>-0.928477</td>\n",
       "      <td>-1.372816</td>\n",
       "      <td>-1.355380</td>\n",
       "    </tr>\n",
       "    <tr>\n",
       "      <th>2</th>\n",
       "      <td>-0.928477</td>\n",
       "      <td>-0.016341</td>\n",
       "      <td>-0.112206</td>\n",
       "    </tr>\n",
       "    <tr>\n",
       "      <th>3</th>\n",
       "      <td>1.077033</td>\n",
       "      <td>-0.570600</td>\n",
       "      <td>1.294824</td>\n",
       "    </tr>\n",
       "    <tr>\n",
       "      <th>4</th>\n",
       "      <td>-0.928477</td>\n",
       "      <td>1.380244</td>\n",
       "      <td>-0.610900</td>\n",
       "    </tr>\n",
       "  </tbody>\n",
       "</table>\n",
       "</div>"
      ],
      "text/plain": [
       "   chocolate  sugarpercent  pricepercent\n",
       "0  -0.928477     -1.544199     -0.610900\n",
       "1  -0.928477     -1.372816     -1.355380\n",
       "2  -0.928477     -0.016341     -0.112206\n",
       "3   1.077033     -0.570600      1.294824\n",
       "4  -0.928477      1.380244     -0.610900"
      ]
     },
     "execution_count": 101,
     "metadata": {},
     "output_type": "execute_result"
    }
   ],
   "source": [
    "test_data1.head()"
   ]
  },
  {
   "cell_type": "code",
   "execution_count": 102,
   "metadata": {},
   "outputs": [],
   "source": [
    "pred_values_test = RF.predict(test_data1)"
   ]
  },
  {
   "cell_type": "code",
   "execution_count": 105,
   "metadata": {},
   "outputs": [],
   "source": [
    "FinalOP = pd.DataFrame(test_data['competitorname'])"
   ]
  },
  {
   "cell_type": "code",
   "execution_count": 106,
   "metadata": {},
   "outputs": [],
   "source": [
    "FinalOP['winpercent'] = pred_values_test"
   ]
  },
  {
   "cell_type": "code",
   "execution_count": 109,
   "metadata": {},
   "outputs": [],
   "source": [
    "FinalOP.to_csv('submission.csv',index=False,header=False)"
   ]
  },
  {
   "cell_type": "code",
   "execution_count": null,
   "metadata": {},
   "outputs": [],
   "source": [
    "fin"
   ]
  }
 ],
 "metadata": {
  "kernelspec": {
   "display_name": "Python 3",
   "language": "python",
   "name": "python3"
  },
  "language_info": {
   "codemirror_mode": {
    "name": "ipython",
    "version": 3
   },
   "file_extension": ".py",
   "mimetype": "text/x-python",
   "name": "python",
   "nbconvert_exporter": "python",
   "pygments_lexer": "ipython3",
   "version": "3.8.5"
  }
 },
 "nbformat": 4,
 "nbformat_minor": 4
}
